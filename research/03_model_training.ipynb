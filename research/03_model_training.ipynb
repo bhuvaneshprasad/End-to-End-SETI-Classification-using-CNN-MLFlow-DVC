{
 "cells": [
  {
   "cell_type": "code",
   "execution_count": 1,
   "metadata": {},
   "outputs": [
    {
     "data": {
      "text/plain": [
       "'d:\\\\Documents\\\\projects\\\\End-to-End-SETI-Classification-using-CNN-MLFlow-DVC\\\\research'"
      ]
     },
     "execution_count": 1,
     "metadata": {},
     "output_type": "execute_result"
    }
   ],
   "source": [
    "import os\n",
    "%pwd"
   ]
  },
  {
   "cell_type": "code",
   "execution_count": 2,
   "metadata": {},
   "outputs": [
    {
     "data": {
      "text/plain": [
       "'d:\\\\Documents\\\\projects\\\\End-to-End-SETI-Classification-using-CNN-MLFlow-DVC'"
      ]
     },
     "execution_count": 2,
     "metadata": {},
     "output_type": "execute_result"
    }
   ],
   "source": [
    "os.chdir(\"../\")\n",
    "%pwd"
   ]
  },
  {
   "cell_type": "code",
   "execution_count": 3,
   "metadata": {},
   "outputs": [],
   "source": [
    "from dataclasses import dataclass\n",
    "from pathlib import Path\n",
    "\n",
    "@dataclass(frozen=True)\n",
    "class ModelTrainingConfig:\n",
    "    root_dir: Path\n",
    "    trained_model_path: Path\n",
    "    updated_base_model_path: Path\n",
    "    training_data_path: Path\n",
    "    params_epochs: int\n",
    "    params_batch_size: int\n",
    "    params_is_augmentation: bool\n",
    "    params_image_size: list"
   ]
  },
  {
   "cell_type": "code",
   "execution_count": 4,
   "metadata": {},
   "outputs": [],
   "source": [
    "from cnnClassifier.constants import CONFIG_FILE_PATH, PARAMS_FILE_PATH\n",
    "from cnnClassifier.utils.common import read_yaml, create_directories\n",
    "import tensorflow as tf"
   ]
  },
  {
   "cell_type": "code",
   "execution_count": 5,
   "metadata": {},
   "outputs": [],
   "source": [
    "class ConfigurationManager:\n",
    "    def __init__(self, config_filepath=CONFIG_FILE_PATH, params_filepath=PARAMS_FILE_PATH) -> None:\n",
    "        self.config = read_yaml(config_filepath)\n",
    "        self.params = read_yaml(params_filepath)\n",
    "        \n",
    "        create_directories([self.config.artifacts_root])\n",
    "    \n",
    "    def get_model_training_config(self) -> ModelTrainingConfig:\n",
    "        model_training = self.config.model_training\n",
    "        prepare_base_model = self.config.prepare_base_model\n",
    "        params = self.params\n",
    "        training_data = os.path.join(self.config.data_ingestion.data_dir, \"seti-sub\\\\seti_signals_sub\")\n",
    "        \n",
    "        create_directories([model_training.root_dir])\n",
    "        \n",
    "        model_training_config = ModelTrainingConfig(\n",
    "            root_dir=Path(model_training.root_dir),\n",
    "            trained_model_path=Path(model_training.trained_model_path),\n",
    "            updated_base_model_path=Path(prepare_base_model.updated_base_model_path),\n",
    "            training_data_path=Path(training_data),\n",
    "            params_epochs=params.EPOCHS,\n",
    "            params_batch_size=params.BATCH_SIZE,\n",
    "            params_image_size=params.IMAGE_SIZE,\n",
    "            params_is_augmentation=params.AUGMENTATION\n",
    "        )\n",
    "        \n",
    "        return model_training_config"
   ]
  },
  {
   "cell_type": "code",
   "execution_count": 6,
   "metadata": {},
   "outputs": [],
   "source": [
    "class ModelTraining:\n",
    "    def __init__(self, config: ModelTrainingConfig) -> None:\n",
    "        self.config = config\n",
    "    \n",
    "    def get_base_model(self):\n",
    "        self.model = tf.keras.models.load_model(\n",
    "            self.config.updated_base_model_path\n",
    "        )\n",
    "    \n",
    "    @staticmethod\n",
    "    def save_model(path: Path, model: tf.keras.Model):\n",
    "        model.save(path)\n",
    "\n",
    "    \n",
    "    def train(self):\n",
    "        train_data = os.path.join(self.config.training_data_path, \"train\")\n",
    "        val_data = os.path.join(self.config.training_data_path, \"valid\")\n",
    "        \n",
    "        train_dataset = tf.keras.preprocessing.image_dataset_from_directory(\n",
    "                                train_data,\n",
    "                                shuffle=True,\n",
    "                                image_size = (self.config.params_image_size[0], self.config.params_image_size[0]),\n",
    "                                batch_size = self.config.params_batch_size\n",
    "                            )\n",
    "        \n",
    "        val_dataset = tf.keras.preprocessing.image_dataset_from_directory(\n",
    "                                val_data,\n",
    "                                shuffle=True,\n",
    "                                image_size = (self.config.params_image_size[0], self.config.params_image_size[0]),\n",
    "                                batch_size = self.config.params_batch_size\n",
    "                            )\n",
    "        \n",
    "        train = train_dataset.cache().shuffle(1000).prefetch(buffer_size=tf.data.AUTOTUNE)\n",
    "        val = val_dataset.cache().shuffle(100).prefetch(buffer_size=tf.data.AUTOTUNE)\n",
    "        \n",
    "        early_stopping = tf.keras.callbacks.EarlyStopping(monitor='val_accuracy', patience=10, restore_best_weights=True)\n",
    "\n",
    "        self.model.fit(\n",
    "            train,\n",
    "            epochs=self.config.params_epochs,\n",
    "            batch_size=self.config.params_batch_size,\n",
    "            verbose=1,\n",
    "            validation_data=val,\n",
    "            callbacks=[early_stopping]\n",
    "        )\n",
    "\n",
    "        self.save_model(\n",
    "            path=self.config.trained_model_path,\n",
    "            model=self.model\n",
    "        )"
   ]
  },
  {
   "cell_type": "code",
   "execution_count": 7,
   "metadata": {},
   "outputs": [
    {
     "name": "stdout",
     "output_type": "stream",
     "text": [
      "[2024-07-03 20:06:44,246: INFO: common: yaml file config\\config.yaml loadded successfully]\n",
      "[2024-07-03 20:06:44,249: INFO: common: yaml file params.yaml loadded successfully]\n",
      "[2024-07-03 20:06:44,250: INFO: common: Created directory at: ['artifacts']]\n",
      "[2024-07-03 20:06:44,251: INFO: common: Created directory at: ['artifacts/model_training']]\n",
      "Found 350 files belonging to 7 classes.\n"
     ]
    },
    {
     "name": "stderr",
     "output_type": "stream",
     "text": [
      "d:\\Documents\\projects\\End-to-End-SETI-Classification-using-CNN-MLFlow-DVC\\venv\\Lib\\site-packages\\keras\\src\\saving\\saving_lib.py:576: UserWarning: Skipping variable loading for optimizer 'adam', because it has 394 variables whereas the saved optimizer has 2 variables. \n",
      "  saveable.load_own_variables(weights_store.get(inner_path))\n"
     ]
    },
    {
     "name": "stdout",
     "output_type": "stream",
     "text": [
      "Found 175 files belonging to 7 classes.\n",
      "\u001b[1m22/22\u001b[0m \u001b[32m━━━━━━━━━━━━━━━━━━━━\u001b[0m\u001b[37m\u001b[0m \u001b[1m115s\u001b[0m 3s/step - accuracy: 0.1066 - loss: 5.3012 - val_accuracy: 0.1429 - val_loss: 313579776.0000\n"
     ]
    }
   ],
   "source": [
    "try:\n",
    "    config = ConfigurationManager()\n",
    "    model_training_config = config.get_model_training_config()\n",
    "    model_training = ModelTraining(config=model_training_config)\n",
    "    model_training.get_base_model()\n",
    "    model_training.train()\n",
    "except Exception as e:\n",
    "    raise e"
   ]
  },
  {
   "cell_type": "code",
   "execution_count": null,
   "metadata": {},
   "outputs": [],
   "source": []
  }
 ],
 "metadata": {
  "kernelspec": {
   "display_name": "venv",
   "language": "python",
   "name": "python3"
  },
  "language_info": {
   "codemirror_mode": {
    "name": "ipython",
    "version": 3
   },
   "file_extension": ".py",
   "mimetype": "text/x-python",
   "name": "python",
   "nbconvert_exporter": "python",
   "pygments_lexer": "ipython3",
   "version": "3.12.2"
  }
 },
 "nbformat": 4,
 "nbformat_minor": 2
}
