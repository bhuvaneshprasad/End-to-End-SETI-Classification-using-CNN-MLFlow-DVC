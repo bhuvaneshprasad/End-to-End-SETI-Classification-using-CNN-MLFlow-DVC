{
 "cells": [
  {
   "cell_type": "code",
   "execution_count": 3,
   "metadata": {},
   "outputs": [
    {
     "data": {
      "text/plain": [
       "'d:\\\\Documents\\\\projects\\\\End-to-End-SETI-Classification-using-CNN-MLFlow-DVC\\\\research'"
      ]
     },
     "execution_count": 3,
     "metadata": {},
     "output_type": "execute_result"
    }
   ],
   "source": [
    "import os\n",
    "%pwd"
   ]
  },
  {
   "cell_type": "code",
   "execution_count": 4,
   "metadata": {},
   "outputs": [
    {
     "data": {
      "text/plain": [
       "'d:\\\\Documents\\\\projects\\\\End-to-End-SETI-Classification-using-CNN-MLFlow-DVC'"
      ]
     },
     "execution_count": 4,
     "metadata": {},
     "output_type": "execute_result"
    }
   ],
   "source": [
    "os.chdir(\"../\")\n",
    "%pwd"
   ]
  },
  {
   "cell_type": "code",
   "execution_count": 5,
   "metadata": {},
   "outputs": [],
   "source": [
    "import mlflow\n",
    "from dotenv import load_dotenv\n",
    "import os\n",
    "\n",
    "load_dotenv()\n",
    "\n",
    "mlflow.set_tracking_uri(os.getenv('MLFLOW_URI'))\n",
    "os.environ[\"MLFLOW_TRACKING_USERNAME\"]=os.getenv('MLFLOW_TRACKING_USERNAME')\n",
    "os.environ[\"MLFLOW_TRACKING_PASSWORD\"]=os.getenv('MLFLOW_TRACKING_PASSWORD')"
   ]
  },
  {
   "cell_type": "code",
   "execution_count": 6,
   "metadata": {},
   "outputs": [],
   "source": [
    "from dataclasses import dataclass\n",
    "from pathlib import Path\n",
    "\n",
    "@dataclass(frozen=True)\n",
    "class EvaluationConfig:\n",
    "    path_of_model: Path\n",
    "    training_data_path: Path\n",
    "    all_params: dict\n",
    "    mlflow_uri: str\n",
    "    params_image_size: list\n",
    "    params_batch_size: int"
   ]
  },
  {
   "cell_type": "code",
   "execution_count": 7,
   "metadata": {},
   "outputs": [],
   "source": [
    "from cnnClassifier.constants import CONFIG_FILE_PATH, PARAMS_FILE_PATH\n",
    "from cnnClassifier.utils.common import read_yaml, create_directories, save_json"
   ]
  },
  {
   "cell_type": "code",
   "execution_count": 8,
   "metadata": {},
   "outputs": [],
   "source": [
    "class ConfigurationManager:\n",
    "    def __init__(self, config_filepath = CONFIG_FILE_PATH, params_filepath = PARAMS_FILE_PATH):\n",
    "        self.config = read_yaml(config_filepath)\n",
    "        self.params = read_yaml(params_filepath)\n",
    "        \n",
    "        create_directories([self.config.artifacts_root])\n",
    "\n",
    "    \n",
    "    def get_evaluation_config(self) -> EvaluationConfig:\n",
    "        \n",
    "        eval_config = EvaluationConfig(\n",
    "            path_of_model=self.config.model_training.trained_model_path,\n",
    "            training_data_path=self.config.data_ingestion.data_dir,\n",
    "            mlflow_uri=self.config.model_evaluation.dagshub_uri,\n",
    "            all_params=self.params,\n",
    "            params_image_size=self.params.IMAGE_SIZE,\n",
    "            params_batch_size=self.params.BATCH_SIZE\n",
    "        )\n",
    "        return eval_config"
   ]
  },
  {
   "cell_type": "code",
   "execution_count": 9,
   "metadata": {},
   "outputs": [],
   "source": [
    "import tensorflow as tf\n",
    "from pathlib import Path\n",
    "import mlflow\n",
    "import mlflow.keras\n",
    "from urllib.parse import urlparse\n",
    "from mlflow.models.signature import ModelSignature\n",
    "from mlflow.types import Schema, TensorSpec"
   ]
  },
  {
   "cell_type": "code",
   "execution_count": 10,
   "metadata": {},
   "outputs": [],
   "source": [
    "class Evaluation:\n",
    "    def __init__(self, config: EvaluationConfig):\n",
    "        self.config = config\n",
    "\n",
    "    @staticmethod\n",
    "    def load_model(path: Path) -> tf.keras.Model:\n",
    "        return tf.keras.models.load_model(path)\n",
    "    \n",
    "    def evaluation(self):\n",
    "        val_data = os.path.join(self.config.training_data_path, \"seti-sub\\\\seti_signals_sub\\\\valid\")\n",
    "        val_dataset = tf.keras.preprocessing.image_dataset_from_directory(\n",
    "                                val_data,\n",
    "                                shuffle=True,\n",
    "                                image_size = (self.config.params_image_size[0], self.config.params_image_size[0]),\n",
    "                                batch_size = self.config.params_batch_size\n",
    "                            )\n",
    "        val = val_dataset.cache().shuffle(100).prefetch(buffer_size=tf.data.AUTOTUNE)\n",
    "        \n",
    "        self.model = self.load_model(self.config.path_of_model)\n",
    "        self.score = self.model.evaluate(val)\n",
    "        self.save_score()\n",
    "\n",
    "    def save_score(self):\n",
    "        scores = {'loss': self.score[0], 'accuracy': self.score[1]}\n",
    "        save_json(path=Path(\"scores.json\"), data=scores)\n",
    "    \n",
    "    def log_into_mlflow(self):\n",
    "        mlflow.set_registry_uri(self.config.mlflow_uri)\n",
    "        tracking_url_type_store = urlparse(mlflow.get_tracking_uri()).scheme\n",
    "        \n",
    "        with mlflow.start_run():\n",
    "            mlflow.log_params(self.config.all_params)\n",
    "            mlflow.log_metrics(\n",
    "                {\"loss\": self.score[0], \"accuracy\": self.score[1]}\n",
    "            )\n",
    "            if tracking_url_type_store != \"file\":\n",
    "                # Define the input and output schema\n",
    "                input_schema = Schema([TensorSpec(np.dtype(\"float32\"), (-1, 256, 256, 3))])\n",
    "                output_schema = Schema([TensorSpec(np.dtype(\"float32\"), (-1, 7))])\n",
    "\n",
    "                # Create the model signature\n",
    "                signature = ModelSignature(inputs=input_schema, outputs=output_schema)\n",
    "                mlflow.keras.log_model(self.model, \"model\", registered_model_name=\"InceptionV3\", signature=signature)\n",
    "            else:\n",
    "                mlflow.keras.log_model(self.model, \"model\")"
   ]
  },
  {
   "cell_type": "code",
   "execution_count": 12,
   "metadata": {},
   "outputs": [
    {
     "name": "stdout",
     "output_type": "stream",
     "text": [
      "[2024-07-04 12:06:48,071: INFO: common: yaml file config\\config.yaml loaded successfully]\n",
      "[2024-07-04 12:06:48,073: INFO: common: yaml file params.yaml loaded successfully]\n",
      "[2024-07-04 12:06:48,075: INFO: common: Created directory at: ['artifacts']]\n",
      "Found 175 files belonging to 7 classes.\n",
      "\u001b[1m6/6\u001b[0m \u001b[32m━━━━━━━━━━━━━━━━━━━━\u001b[0m\u001b[37m\u001b[0m \u001b[1m15s\u001b[0m 1s/step - accuracy: 0.1386 - loss: 29972302052765408457392128.0000\n",
      "\u001b[1m6/6\u001b[0m \u001b[32m━━━━━━━━━━━━━━━━━━━━\u001b[0m\u001b[37m\u001b[0m \u001b[1m10s\u001b[0m 1s/step\n",
      "[2024-07-04 12:07:32,658: INFO: common: Json saved at: scores.json]\n"
     ]
    }
   ],
   "source": [
    "try:\n",
    "    config = ConfigurationManager()\n",
    "    eval_config = config.get_evaluation_config()\n",
    "    eval = Evaluation(eval_config)\n",
    "    eval.evaluation()\n",
    "    # eval.log_into_mlflow()\n",
    "except Exception as e:\n",
    "    raise e"
   ]
  },
  {
   "cell_type": "markdown",
   "metadata": {},
   "source": [
    "# prediction"
   ]
  },
  {
   "cell_type": "code",
   "execution_count": 13,
   "metadata": {},
   "outputs": [],
   "source": [
    "from mlflow.models.signature import infer_signature\n",
    "import os\n",
    "import tensorflow as tf\n",
    "import numpy as np\n",
    "from tensorflow.image import resize\n",
    "\n",
    "model = tf.keras.models.load_model(\"D:\\\\Documents\\\\projects\\\\End-to-End-SETI-Classification-using-CNN-MLFlow-DVC\\\\artifacts\\\\model_training\\\\model.keras\")\n"
   ]
  },
  {
   "cell_type": "code",
   "execution_count": 16,
   "metadata": {},
   "outputs": [
    {
     "name": "stdout",
     "output_type": "stream",
     "text": [
      "\u001b[1m1/1\u001b[0m \u001b[32m━━━━━━━━━━━━━━━━━━━━\u001b[0m\u001b[37m\u001b[0m \u001b[1m2s\u001b[0m 2s/step\n",
      "[2]\n"
     ]
    }
   ],
   "source": [
    "from tensorflow.keras.preprocessing import image\n",
    "\n",
    "imagename = \"517_brightpixel.png\"\n",
    "test_image = image.load_img(imagename, target_size = (256,256))\n",
    "test_image = image.img_to_array(test_image)\n",
    "test_image = np.expand_dims(test_image, axis = 0)\n",
    "result = np.argmax(model.predict(test_image), axis=1)\n",
    "print(result)"
   ]
  },
  {
   "cell_type": "code",
   "execution_count": null,
   "metadata": {},
   "outputs": [],
   "source": []
  }
 ],
 "metadata": {
  "kernelspec": {
   "display_name": "venv",
   "language": "python",
   "name": "python3"
  },
  "language_info": {
   "codemirror_mode": {
    "name": "ipython",
    "version": 3
   },
   "file_extension": ".py",
   "mimetype": "text/x-python",
   "name": "python",
   "nbconvert_exporter": "python",
   "pygments_lexer": "ipython3",
   "version": "3.12.2"
  }
 },
 "nbformat": 4,
 "nbformat_minor": 2
}
